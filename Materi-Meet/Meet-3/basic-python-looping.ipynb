{
 "cells": [
  {
   "cell_type": "markdown",
   "id": "67308cef",
   "metadata": {},
   "source": [
    "# Basic Python - Looping"
   ]
  },
  {
   "cell_type": "markdown",
   "id": "e054111a",
   "metadata": {},
   "source": [
    "## 1. For Looping"
   ]
  },
  {
   "cell_type": "code",
   "execution_count": 1,
   "id": "9f4f4bda",
   "metadata": {},
   "outputs": [
    {
     "name": "stdout",
     "output_type": "stream",
     "text": [
      "['Pisang', 'Anggur', 'Apel', 'Stroberi']\n"
     ]
    }
   ],
   "source": [
    "# membuat sequences\n",
    "fruits = [\"Pisang\", \"Anggur\",\"Apel\", \"Stroberi\"]\n",
    "print(fruits)"
   ]
  },
  {
   "cell_type": "code",
   "execution_count": 2,
   "id": "ea307d08",
   "metadata": {},
   "outputs": [
    {
     "name": "stdout",
     "output_type": "stream",
     "text": [
      "nama buah: Pisang\n",
      "nama buah: Anggur\n",
      "nama buah: Apel\n",
      "nama buah: Stroberi\n"
     ]
    }
   ],
   "source": [
    "# Do for loop\n",
    "for x in fruits:\n",
    "    print(f\"nama buah: {x}\")"
   ]
  },
  {
   "cell_type": "markdown",
   "id": "ab093d16",
   "metadata": {},
   "source": [
    "### Range Method"
   ]
  },
  {
   "cell_type": "code",
   "execution_count": 3,
   "id": "c59872b2",
   "metadata": {},
   "outputs": [],
   "source": [
    "himpunan_bil = range(10)"
   ]
  },
  {
   "cell_type": "code",
   "execution_count": 5,
   "id": "6cdd370b",
   "metadata": {},
   "outputs": [
    {
     "name": "stdout",
     "output_type": "stream",
     "text": [
      "Bilangan ke-0\n",
      "Bilangan ke-1\n",
      "Bilangan ke-2\n",
      "Bilangan ke-3\n",
      "Bilangan ke-4\n",
      "Bilangan ke-5\n",
      "Bilangan ke-6\n",
      "Bilangan ke-7\n",
      "Bilangan ke-8\n",
      "Bilangan ke-9\n"
     ]
    }
   ],
   "source": [
    "for i in himpunan_bil:\n",
    "    print(f\"Bilangan ke-{i}\")"
   ]
  },
  {
   "cell_type": "code",
   "execution_count": 6,
   "id": "3b754df5",
   "metadata": {},
   "outputs": [],
   "source": [
    "bilangan = range(1, 11)"
   ]
  },
  {
   "cell_type": "code",
   "execution_count": 7,
   "id": "31c08a46",
   "metadata": {},
   "outputs": [
    {
     "name": "stdout",
     "output_type": "stream",
     "text": [
      "bilangan ke-1\n",
      "bilangan ke-2\n",
      "bilangan ke-3\n",
      "bilangan ke-4\n",
      "bilangan ke-5\n",
      "bilangan ke-6\n",
      "bilangan ke-7\n",
      "bilangan ke-8\n",
      "bilangan ke-9\n",
      "bilangan ke-10\n"
     ]
    }
   ],
   "source": [
    "for x in bilangan:\n",
    "    print(f\"bilangan ke-{x}\")"
   ]
  },
  {
   "cell_type": "code",
   "execution_count": 9,
   "id": "29335cf3",
   "metadata": {},
   "outputs": [],
   "source": [
    "numbers = range(2, 52, 2) #(start, stop, selisih)"
   ]
  },
  {
   "cell_type": "code",
   "execution_count": 10,
   "id": "0d5d16b0",
   "metadata": {},
   "outputs": [
    {
     "name": "stdout",
     "output_type": "stream",
     "text": [
      "Bilagan ke-2\n",
      "Bilagan ke-4\n",
      "Bilagan ke-6\n",
      "Bilagan ke-8\n",
      "Bilagan ke-10\n",
      "Bilagan ke-12\n",
      "Bilagan ke-14\n",
      "Bilagan ke-16\n",
      "Bilagan ke-18\n",
      "Bilagan ke-20\n",
      "Bilagan ke-22\n",
      "Bilagan ke-24\n",
      "Bilagan ke-26\n",
      "Bilagan ke-28\n",
      "Bilagan ke-30\n",
      "Bilagan ke-32\n",
      "Bilagan ke-34\n",
      "Bilagan ke-36\n",
      "Bilagan ke-38\n",
      "Bilagan ke-40\n",
      "Bilagan ke-42\n",
      "Bilagan ke-44\n",
      "Bilagan ke-46\n",
      "Bilagan ke-48\n",
      "Bilagan ke-50\n"
     ]
    }
   ],
   "source": [
    "for x in numbers:\n",
    "    print(f\"Bilagan ke-{x}\")"
   ]
  },
  {
   "cell_type": "markdown",
   "id": "1fb9c466",
   "metadata": {},
   "source": [
    "### While Loop"
   ]
  },
  {
   "cell_type": "code",
   "execution_count": 30,
   "id": "302a1c0c",
   "metadata": {},
   "outputs": [],
   "source": [
    "i = 1"
   ]
  },
  {
   "cell_type": "code",
   "execution_count": 31,
   "id": "6f1f68fd",
   "metadata": {},
   "outputs": [
    {
     "name": "stdout",
     "output_type": "stream",
     "text": [
      "1\n",
      "2\n",
      "3\n",
      "4\n",
      "5\n",
      "6\n",
      "7\n",
      "8\n",
      "9\n"
     ]
    }
   ],
   "source": [
    "while i < 10:\n",
    "    print(i)\n",
    "    i += 1"
   ]
  },
  {
   "cell_type": "markdown",
   "id": "bee0bdb8",
   "metadata": {},
   "source": [
    "### Continue"
   ]
  },
  {
   "cell_type": "code",
   "execution_count": 34,
   "id": "1b722c70",
   "metadata": {},
   "outputs": [],
   "source": [
    "bil = range(51)"
   ]
  },
  {
   "cell_type": "code",
   "execution_count": 35,
   "id": "07b40916",
   "metadata": {},
   "outputs": [
    {
     "name": "stdout",
     "output_type": "stream",
     "text": [
      "1\n",
      "3\n",
      "5\n",
      "7\n",
      "9\n",
      "11\n",
      "13\n",
      "15\n",
      "17\n",
      "19\n",
      "21\n",
      "23\n",
      "25\n",
      "27\n",
      "29\n",
      "31\n",
      "33\n",
      "35\n",
      "37\n",
      "39\n",
      "41\n",
      "43\n",
      "45\n",
      "47\n",
      "49\n"
     ]
    }
   ],
   "source": [
    "for x in bil:\n",
    "    if x % 2 == 0:\n",
    "        continue\n",
    "    print(x)"
   ]
  },
  {
   "cell_type": "markdown",
   "id": "f4c357e4",
   "metadata": {},
   "source": [
    "### Break"
   ]
  },
  {
   "cell_type": "code",
   "execution_count": 36,
   "id": "d744d6d6",
   "metadata": {},
   "outputs": [
    {
     "name": "stdout",
     "output_type": "stream",
     "text": [
      "0\n",
      "1\n",
      "2\n",
      "3\n",
      "4\n",
      "5\n",
      "6\n",
      "7\n",
      "8\n",
      "9\n",
      "10\n",
      "11\n",
      "12\n",
      "13\n",
      "14\n",
      "15\n",
      "16\n",
      "17\n",
      "18\n",
      "19\n",
      "20\n",
      "21\n",
      "22\n",
      "23\n",
      "24\n"
     ]
    }
   ],
   "source": [
    "for x in bil:\n",
    "    if x == 25:\n",
    "        break\n",
    "    print(x)"
   ]
  },
  {
   "cell_type": "code",
   "execution_count": 42,
   "id": "f34cbffd",
   "metadata": {},
   "outputs": [
    {
     "name": "stdout",
     "output_type": "stream",
     "text": [
      "Masukkan bilangan yang ingin dicari: 7\n",
      "Kamu akan mencari 7, tunggu yah\n",
      "Mencari....\n",
      "Mencari....\n",
      "Mencari....\n",
      "Mencari....\n",
      "Mencari....\n",
      "Mencari....\n",
      "Mencari....\n",
      "Mencari....\n",
      "Selamat, bilangan 7 berhasil ditemukan!\n"
     ]
    }
   ],
   "source": [
    "input_bil = int(input(\"Masukkan bilangan yang ingin dicari: \"))\n",
    "print(f\"Kamu akan mencari {input_bil}, tunggu yah\")\n",
    "for x in bil:\n",
    "    print(\"Mencari....\")\n",
    "    if x == input_bil:\n",
    "        print(f\"Selamat, bilangan {x} berhasil ditemukan!\")\n",
    "        break"
   ]
  },
  {
   "cell_type": "markdown",
   "id": "70759f4c",
   "metadata": {},
   "source": [
    "### Nested Loop"
   ]
  },
  {
   "cell_type": "code",
   "execution_count": 43,
   "id": "1cab5e9d",
   "metadata": {},
   "outputs": [
    {
     "name": "stdout",
     "output_type": "stream",
     "text": [
      "i:0,j:0i:0,j:1i:0,j:2\n",
      "i:1,j:0i:1,j:1i:1,j:2\n"
     ]
    }
   ],
   "source": [
    "for i in range(2):\n",
    "    for j in range(3):\n",
    "        print(\"i:{},j:{}\".format(i,j),end=\"\")\n",
    "    print()"
   ]
  },
  {
   "cell_type": "code",
   "execution_count": 45,
   "id": "fe512f44",
   "metadata": {},
   "outputs": [],
   "source": [
    "li = [\n",
    "    [\"Zaki\", \"Rahmat\", \"Budi\", \"Susi\"],\n",
    "    [\"Indonesia\", \"Mesir\", \"Turki\", \"Swiss\"]\n",
    "]"
   ]
  },
  {
   "cell_type": "code",
   "execution_count": 46,
   "id": "4c55ede3",
   "metadata": {},
   "outputs": [
    {
     "name": "stdout",
     "output_type": "stream",
     "text": [
      "Hasil: Zaki\n",
      "Hasil: Rahmat\n",
      "Hasil: Budi\n",
      "Hasil: Susi\n",
      "\n",
      "Hasil: Indonesia\n",
      "Hasil: Mesir\n",
      "Hasil: Turki\n",
      "Hasil: Swiss\n",
      "\n"
     ]
    }
   ],
   "source": [
    "for x in li:\n",
    "    for i in x:\n",
    "        print(f\"Hasil: {i}\")\n",
    "    print()"
   ]
  },
  {
   "cell_type": "markdown",
   "id": "18716c38",
   "metadata": {},
   "source": [
    "#### Quiz"
   ]
  },
  {
   "cell_type": "code",
   "execution_count": 48,
   "id": "c172ea3c",
   "metadata": {},
   "outputs": [
    {
     "name": "stdout",
     "output_type": "stream",
     "text": [
      "4\n"
     ]
    }
   ],
   "source": [
    "# What is output from this code:\n",
    "a = [1,2,3,4,5]\n",
    "b = [2,4,3,5,6]\n",
    "c = 0\n",
    "\n",
    "for i in a:\n",
    "    for j in b:\n",
    "        if i == j:\n",
    "            c = c + 1\n",
    "print(c)"
   ]
  },
  {
   "cell_type": "code",
   "execution_count": 49,
   "id": "aeaaef02",
   "metadata": {},
   "outputs": [
    {
     "name": "stdout",
     "output_type": "stream",
     "text": [
      "i:2, j:2\n",
      "1\n",
      "i:3, j:3\n",
      "2\n",
      "i:4, j:4\n",
      "3\n",
      "i:5, j:5\n",
      "4\n",
      "The answer is 4\n"
     ]
    }
   ],
   "source": [
    "q = [1,2,3,4,5]\n",
    "r = [2,4,3,5,6]\n",
    "s = 0\n",
    "\n",
    "for i in q:\n",
    "    for j in r:\n",
    "        if i == j:\n",
    "            print(f\"i:{i}, j:{j}\")\n",
    "            s=s+1\n",
    "            print(s)\n",
    "print(f\"The answer is {s}\")"
   ]
  },
  {
   "cell_type": "code",
   "execution_count": null,
   "id": "0eb2dc1e",
   "metadata": {},
   "outputs": [],
   "source": []
  }
 ],
 "metadata": {
  "kernelspec": {
   "display_name": "Python 3",
   "language": "python",
   "name": "python3"
  },
  "language_info": {
   "codemirror_mode": {
    "name": "ipython",
    "version": 3
   },
   "file_extension": ".py",
   "mimetype": "text/x-python",
   "name": "python",
   "nbconvert_exporter": "python",
   "pygments_lexer": "ipython3",
   "version": "3.8.8"
  }
 },
 "nbformat": 4,
 "nbformat_minor": 5
}
