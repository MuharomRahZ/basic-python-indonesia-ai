{
 "cells": [
  {
   "cell_type": "markdown",
   "id": "16249317",
   "metadata": {},
   "source": [
    "# Basic Python - Dictionary & Function"
   ]
  },
  {
   "cell_type": "markdown",
   "id": "2589a4dd",
   "metadata": {},
   "source": [
    "## 1. Dictionary"
   ]
  },
  {
   "cell_type": "code",
   "execution_count": 1,
   "id": "819df962",
   "metadata": {},
   "outputs": [],
   "source": [
    "my_dict = {\n",
    "    \"nama\" : \"zaki\",\n",
    "    \"alamat\" : \"bontang\",\n",
    "    \"hobi\" : \"nonton\"\n",
    "}"
   ]
  },
  {
   "cell_type": "code",
   "execution_count": 2,
   "id": "92488510",
   "metadata": {},
   "outputs": [
    {
     "name": "stdout",
     "output_type": "stream",
     "text": [
      "{'nama': 'zaki', 'alamat': 'bontang', 'hobi': 'nonton'}\n"
     ]
    }
   ],
   "source": [
    "print(my_dict)"
   ]
  },
  {
   "cell_type": "markdown",
   "id": "0b6e0f59",
   "metadata": {},
   "source": [
    "### Accessing Item"
   ]
  },
  {
   "cell_type": "code",
   "execution_count": 3,
   "id": "78fba102",
   "metadata": {},
   "outputs": [
    {
     "name": "stdout",
     "output_type": "stream",
     "text": [
      "zaki\n"
     ]
    }
   ],
   "source": [
    "print(my_dict[\"nama\"])"
   ]
  },
  {
   "cell_type": "code",
   "execution_count": 4,
   "id": "b2d5fa6d",
   "metadata": {},
   "outputs": [
    {
     "name": "stdout",
     "output_type": "stream",
     "text": [
      "bontang\n"
     ]
    }
   ],
   "source": [
    "print(my_dict[\"alamat\"])"
   ]
  },
  {
   "cell_type": "code",
   "execution_count": 5,
   "id": "00c2a1f3",
   "metadata": {},
   "outputs": [
    {
     "name": "stdout",
     "output_type": "stream",
     "text": [
      "nonton\n"
     ]
    }
   ],
   "source": [
    "print(my_dict[\"hobi\"])"
   ]
  },
  {
   "cell_type": "markdown",
   "id": "46907390",
   "metadata": {},
   "source": [
    "### Mengubah Value"
   ]
  },
  {
   "cell_type": "code",
   "execution_count": 6,
   "id": "885436dd",
   "metadata": {},
   "outputs": [],
   "source": [
    "my_dict[\"nama\"] = \"John\""
   ]
  },
  {
   "cell_type": "code",
   "execution_count": 7,
   "id": "e166987b",
   "metadata": {},
   "outputs": [],
   "source": [
    "my_dict[\"alamat\"] = \"Berlin\""
   ]
  },
  {
   "cell_type": "code",
   "execution_count": 8,
   "id": "16c4c48e",
   "metadata": {},
   "outputs": [],
   "source": [
    "my_dict[\"hobi\"] = \"Membaca\""
   ]
  },
  {
   "cell_type": "code",
   "execution_count": 12,
   "id": "52971bb2",
   "metadata": {},
   "outputs": [
    {
     "name": "stdout",
     "output_type": "stream",
     "text": [
      "Nama: John\n",
      "Alamat: Berlin\n",
      "Hobi: Membaca\n"
     ]
    }
   ],
   "source": [
    "print(\"Nama: {}\\nAlamat: {}\\nHobi: {}\".format(my_dict[\"nama\"], my_dict[\"alamat\"], my_dict[\"hobi\"]))"
   ]
  },
  {
   "cell_type": "markdown",
   "id": "956a890f",
   "metadata": {},
   "source": [
    "### Looping in Dictionary"
   ]
  },
  {
   "cell_type": "code",
   "execution_count": 13,
   "id": "7eeb678c",
   "metadata": {},
   "outputs": [
    {
     "name": "stdout",
     "output_type": "stream",
     "text": [
      "nama: John\n",
      "alamat: Berlin\n",
      "hobi: Membaca\n"
     ]
    }
   ],
   "source": [
    "for x in my_dict:\n",
    "    print(f\"{x}: {my_dict[x]}\")"
   ]
  },
  {
   "cell_type": "code",
   "execution_count": 15,
   "id": "15d317a6",
   "metadata": {},
   "outputs": [
    {
     "name": "stdout",
     "output_type": "stream",
     "text": [
      "{'nama': ['Zaki', 'John'], 'alamat': ['Bontang', 'Berlin']}\n"
     ]
    }
   ],
   "source": [
    "nested_dict = {\n",
    "    \n",
    "        \"nama\" : [\"Zaki\", \"John\"],\n",
    "        \"alamat\" : [\"Bontang\", \"Berlin\"]\n",
    "    \n",
    "}\n",
    "\n",
    "print(nested_dict)"
   ]
  },
  {
   "cell_type": "code",
   "execution_count": 17,
   "id": "34914491",
   "metadata": {},
   "outputs": [
    {
     "name": "stdout",
     "output_type": "stream",
     "text": [
      "nama\n",
      "Zaki\n",
      "John\n",
      "\n",
      "alamat\n",
      "Bontang\n",
      "Berlin\n",
      "\n"
     ]
    }
   ],
   "source": [
    "for x in nested_dict:\n",
    "    print(x)\n",
    "    for i in nested_dict[x]:\n",
    "        print(i)\n",
    "    print()"
   ]
  },
  {
   "cell_type": "markdown",
   "id": "0fa02544",
   "metadata": {},
   "source": [
    "## 2. Function"
   ]
  },
  {
   "cell_type": "code",
   "execution_count": 18,
   "id": "b3d0a855",
   "metadata": {},
   "outputs": [],
   "source": [
    "def myfunc():\n",
    "    print(\"Hello World\")"
   ]
  },
  {
   "cell_type": "code",
   "execution_count": 19,
   "id": "48a72bc6",
   "metadata": {},
   "outputs": [
    {
     "name": "stdout",
     "output_type": "stream",
     "text": [
      "Hello World\n"
     ]
    }
   ],
   "source": [
    "#panggil function\n",
    "myfunc()"
   ]
  },
  {
   "cell_type": "markdown",
   "id": "1d6ec312",
   "metadata": {},
   "source": [
    "### Parameter & Argument"
   ]
  },
  {
   "cell_type": "code",
   "execution_count": 22,
   "id": "32a01bce",
   "metadata": {},
   "outputs": [],
   "source": [
    "def sum(x,y): \n",
    "    print(f\"hasil dari {x} + {y} adalah {x+y}\")"
   ]
  },
  {
   "cell_type": "code",
   "execution_count": 23,
   "id": "256d473c",
   "metadata": {},
   "outputs": [
    {
     "name": "stdout",
     "output_type": "stream",
     "text": [
      "hasil dari 4 + 5 adalah 9\n"
     ]
    }
   ],
   "source": [
    "sum(4,5)"
   ]
  },
  {
   "cell_type": "markdown",
   "id": "b86b69f0",
   "metadata": {},
   "source": [
    "### Default Parameter & Keyword Parameter"
   ]
  },
  {
   "cell_type": "code",
   "execution_count": 27,
   "id": "442fdb79",
   "metadata": {},
   "outputs": [],
   "source": [
    "#fungsi defaul paramter agar tidak terjadi error pada function saat di panggil meski belum diisi parameter\n",
    "#penempatan default parameter hanya dapat di akhir\n",
    "def show_biodata(nama, alamat, hobi = \"Tidak ditentukan\"):\n",
    "    print(f\"Nama: {nama}\\nAlamat: {alamat}\\nHobi: {hobi}\")"
   ]
  },
  {
   "cell_type": "code",
   "execution_count": 28,
   "id": "43fb93d4",
   "metadata": {},
   "outputs": [
    {
     "name": "stdout",
     "output_type": "stream",
     "text": [
      "Nama: john\n",
      "Alamat: Us\n",
      "Hobi: Tidak ditentukan\n"
     ]
    }
   ],
   "source": [
    "show_biodata(\"john\", \"Us\")"
   ]
  },
  {
   "cell_type": "markdown",
   "id": "14a604e3",
   "metadata": {},
   "source": [
    "### Return Value"
   ]
  },
  {
   "cell_type": "code",
   "execution_count": 29,
   "id": "54c3ddd2",
   "metadata": {},
   "outputs": [],
   "source": [
    "def tambah(x,y):\n",
    "    return x + y"
   ]
  },
  {
   "cell_type": "code",
   "execution_count": 30,
   "id": "594dac56",
   "metadata": {},
   "outputs": [
    {
     "data": {
      "text/plain": [
       "42"
      ]
     },
     "execution_count": 30,
     "metadata": {},
     "output_type": "execute_result"
    }
   ],
   "source": [
    "tambah(20, 22)"
   ]
  },
  {
   "cell_type": "code",
   "execution_count": 31,
   "id": "ea186a3a",
   "metadata": {},
   "outputs": [],
   "source": [
    "def sayHello():\n",
    "    return \"Hello\""
   ]
  },
  {
   "cell_type": "code",
   "execution_count": 32,
   "id": "4c4e13fc",
   "metadata": {},
   "outputs": [
    {
     "data": {
      "text/plain": [
       "'Hello'"
      ]
     },
     "execution_count": 32,
     "metadata": {},
     "output_type": "execute_result"
    }
   ],
   "source": [
    "sayHello()"
   ]
  },
  {
   "cell_type": "code",
   "execution_count": null,
   "id": "315c82df",
   "metadata": {},
   "outputs": [],
   "source": []
  }
 ],
 "metadata": {
  "kernelspec": {
   "display_name": "Python 3",
   "language": "python",
   "name": "python3"
  },
  "language_info": {
   "codemirror_mode": {
    "name": "ipython",
    "version": 3
   },
   "file_extension": ".py",
   "mimetype": "text/x-python",
   "name": "python",
   "nbconvert_exporter": "python",
   "pygments_lexer": "ipython3",
   "version": "3.8.8"
  }
 },
 "nbformat": 4,
 "nbformat_minor": 5
}
